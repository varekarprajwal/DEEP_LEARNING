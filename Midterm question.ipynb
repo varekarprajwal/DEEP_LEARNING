{
 "cells": [
  {
   "cell_type": "markdown",
   "id": "150b303b-85a1-4620-8738-692fa580d3a0",
   "metadata": {},
   "source": [
    "# DL MIDTERM QUESTION NOTEBOOK\n",
    "### Read the relevant intructions carefully while filling this notebook.\n",
    "### Marks on the top of the cells indicate maximum marks alloted to the cell.\n",
    "### Using internet or other resources is not allowed.\n",
    "### Use help() fuction for syntax related doubts."
   ]
  },
  {
   "cell_type": "markdown",
   "id": "c0ee754a-b773-419f-bbde-af5101dce3fd",
   "metadata": {},
   "source": [
    "## 1) These are the necessary library imports "
   ]
  },
  {
   "cell_type": "code",
   "execution_count": 148,
   "id": "ca4d26b2-d62f-4f6b-ab4e-06017e62956c",
   "metadata": {},
   "outputs": [],
   "source": [
    "import numpy as np\n",
    "import pandas as pd\n",
    "import sklearn.datasets as skd\n",
    "from sklearn.preprocessing import normalize\n",
    "from sklearn.model_selection import train_test_split\n",
    "import torch\n",
    "import torch.nn as nn\n",
    "import torch.optim as optim\n",
    "from torch.utils.data import TensorDataset, DataLoader\n",
    "import matplotlib.pyplot as plt\n"
   ]
  },
  {
   "cell_type": "markdown",
   "id": "64792771-dddd-458f-8e11-f287f1db5295",
   "metadata": {},
   "source": [
    "## 2) Initial import and data segregation (5 MARKS)\n",
    "### Load the breast cancer dataset from sklearn\n",
    "### Split independent and dependent variables \n",
    "### Normalize independent variables for l2 norm \n",
    "### Print dimension information about the dataset. Print names of the independent features and the target variables"
   ]
  },
  {
   "cell_type": "code",
   "execution_count": 241,
   "id": "1ccc809f-8202-4cdb-b822-3c7cd32af8dd",
   "metadata": {},
   "outputs": [
    {
     "name": "stdout",
     "output_type": "stream",
     "text": [
      "Independent variables have dimensions: (569, 30)\n",
      "Dependent variables have dimensions: (569,)\n",
      "Names of the independent features:\n",
      "['mean radius' 'mean texture' 'mean perimeter' 'mean area'\n",
      " 'mean smoothness' 'mean compactness' 'mean concavity'\n",
      " 'mean concave points' 'mean symmetry' 'mean fractal dimension'\n",
      " 'radius error' 'texture error' 'perimeter error' 'area error'\n",
      " 'smoothness error' 'compactness error' 'concavity error'\n",
      " 'concave points error' 'symmetry error' 'fractal dimension error'\n",
      " 'worst radius' 'worst texture' 'worst perimeter' 'worst area'\n",
      " 'worst smoothness' 'worst compactness' 'worst concavity'\n",
      " 'worst concave points' 'worst symmetry' 'worst fractal dimension']\n",
      "\n",
      "Name of the target variable:\n",
      "['malignant' 'benign']\n"
     ]
    }
   ],
   "source": [
    "breast_cancer = skd.load_breast_cancer()\n",
    "# X = torch.tensor( breast_cancer.data , dtype=torch.float32)\n",
    "# y = torch.tensor( breast_cancer.target, dtype=torch.float32)\n",
    "\n",
    "X = breast_cancer.data  # Independent variables\n",
    "y = breast_cancer.target \n",
    "\n",
    "X_normalized = normalize(X, norm='l2')\n",
    "\n",
    "\n",
    "print(\"Independent variables have dimensions:\",X.shape)\n",
    "print(\"Dependent variables have dimensions:\", y.shape)\n",
    "\n",
    "# Print names of the independent features and the target variables\n",
    "print(\"Names of the independent features:\")\n",
    "print(breast_cancer.feature_names)\n",
    "print(\"\\nName of the target variable:\")\n",
    "print(breast_cancer.target_names)"
   ]
  },
  {
   "cell_type": "markdown",
   "id": "fef6239e-96aa-4a24-aef6-740f648291e5",
   "metadata": {},
   "source": [
    "## 3) Creating a test train split tensors and preparing dataloader (5 MARKS)\n",
    "### Create a train-test split using the imported data (70% for training and 30% for testing)\n",
    "### Convert these data arrays into tensors\n",
    "### Create a tensor dataset using above tensors\n",
    "### Create Pytorch dataLoader instances for training and testing"
   ]
  },
  {
   "cell_type": "code",
   "execution_count": 231,
   "id": "43999de8-99a1-4edf-a531-4ef3de790c2e",
   "metadata": {},
   "outputs": [],
   "source": [
    "# Create train-test split using the imported data (70% for training and 30% for testing)\n",
    "X_train, X_test, y_train, y_test = train_test_split(X_normalized, y, test_size=0.3, random_state=42)\n",
    "\n",
    "# Convert data arrays into tensors\n",
    "X_train_tensor = torch.tensor(X_train, dtype=torch.float32)\n",
    "y_train_tensor = torch.tensor(y_train, dtype=torch.float32)\n",
    "X_test_tensor = torch.tensor(X_test, dtype=torch.float32)\n",
    "y_test_tensor = torch.tensor(y_test, dtype=torch.float32)\n",
    "\n",
    "# Create a tensor dataset using above tensors\n",
    "train_dataset = TensorDataset(X_train_tensor, y_train_tensor)\n",
    "train_loader = DataLoader(train_dataset, batch_size=100, shuffle=True)\n",
    "\n",
    "test_dataset = TensorDataset(X_test_tensor,y_test_tensor)\n",
    "test_loader = DataLoader(test_dataset, batch_size=100, shuffle=False)"
   ]
  },
  {
   "cell_type": "code",
   "execution_count": 232,
   "id": "4b59561f",
   "metadata": {},
   "outputs": [
    {
     "data": {
      "text/plain": [
       "<torch.utils.data.dataset.TensorDataset at 0x7f7e0a44e0b0>"
      ]
     },
     "execution_count": 232,
     "metadata": {},
     "output_type": "execute_result"
    }
   ],
   "source": [
    "train_dataset"
   ]
  },
  {
   "cell_type": "code",
   "execution_count": 233,
   "id": "ec6dbf8f",
   "metadata": {},
   "outputs": [
    {
     "name": "stdout",
     "output_type": "stream",
     "text": [
      "398 30\n"
     ]
    }
   ],
   "source": [
    "n_samples, n_features = X_train.shape\n",
    "print(n_samples, n_features)"
   ]
  },
  {
   "cell_type": "markdown",
   "id": "4e63d76c-2eea-469b-9122-a6497b180b9e",
   "metadata": {},
   "source": [
    "## 4) Create a Neural Network model and initiate it. Also define the loss criterion and optimizer (5 MARKS)\n",
    "### Create a neural network with 3 hidden layers use adequate activation functions\n",
    "### (Class is already created you have to fill the layers part and other incomplete information)\n",
    "### Define the model, define loss function (preferably binary cross entropy loss), and optimizer (preferably ADAM optimizer)"
   ]
  },
  {
   "cell_type": "code",
   "execution_count": 234,
   "id": "9de487fe-301b-4910-8fc2-e08dacedb168",
   "metadata": {},
   "outputs": [],
   "source": [
    "class Net_diabetes(nn.Module):\n",
    "    def __init__(self, input_size, hidden_size1, hidden_size2, hidden_size3, output_size):\n",
    "        super(Net_diabetes, self).__init__()\n",
    "        self.layers = nn.Sequential(\n",
    "            nn.Linear(input_size, hidden_size1),\n",
    "            nn.ReLU(),\n",
    "            nn.Linear(hidden_size1, hidden_size2),\n",
    "            nn.ReLU(),\n",
    "            nn.Linear(hidden_size2, hidden_size3),\n",
    "            nn.ReLU(),\n",
    "            nn.Linear(hidden_size3, output_size),\n",
    "            nn.Sigmoid()  # Sigmoid activation for binary classification\n",
    "        )\n",
    "    def forward(self, x):\n",
    "        return self.layers(x) \n"
   ]
  },
  {
   "cell_type": "code",
   "execution_count": 238,
   "id": "97f61d20",
   "metadata": {},
   "outputs": [],
   "source": [
    "# input_size = X_train.shape[1]\n",
    "# hidden_size1 = 300\n",
    "# hidden_size2 = 150\n",
    "# hidden_size3 = 10\n",
    "# output_size = 1\n",
    "\n",
    "\n",
    "input_size = X_train.shape[1] \n",
    "hidden_size1 = 64\n",
    "hidden_size2 = 32\n",
    "hidden_size3 = 16\n",
    "output_size = 1 \n",
    "\n",
    "\n",
    "model = Net_diabetes(input_size, hidden_size1, hidden_size2, hidden_size3, output_size)\n",
    "criterion = nn.BCELoss()\n",
    "#criterion = nn.MSELoss()\n",
    "optimizer = optim.Adam(model.parameters(), lr=0.01)"
   ]
  },
  {
   "cell_type": "markdown",
   "id": "f1c1435f-bc2b-4b8b-8241-6a9da6d003ca",
   "metadata": {},
   "source": [
    "## 5) Set a training loop, train the model and evaluate it using test set (5 MARKS)\n",
    "### Create training loops by setting epochs (50 epochs)\n",
    "### Finish the loop (set the gradients, get initial output, calculate the loss, backward propogation...etc...)\n",
    "### Plot the training loss \n",
    "### Evaluate the model on the test set"
   ]
  },
  {
   "cell_type": "code",
   "execution_count": 239,
   "id": "32e3040c",
   "metadata": {},
   "outputs": [
    {
     "name": "stdout",
     "output_type": "stream",
     "text": [
      "Epoch [1/50], Loss: 0.6748\n",
      "Epoch [2/50], Loss: 0.6612\n",
      "Epoch [3/50], Loss: 0.6628\n",
      "Epoch [4/50], Loss: 0.6556\n",
      "Epoch [5/50], Loss: 0.6534\n",
      "Epoch [6/50], Loss: 0.6503\n",
      "Epoch [7/50], Loss: 0.6421\n",
      "Epoch [8/50], Loss: 0.6293\n",
      "Epoch [9/50], Loss: 0.6078\n",
      "Epoch [10/50], Loss: 0.5727\n",
      "Epoch [11/50], Loss: 0.5209\n",
      "Epoch [12/50], Loss: 0.4623\n",
      "Epoch [13/50], Loss: 0.4224\n",
      "Epoch [14/50], Loss: 0.3984\n",
      "Epoch [15/50], Loss: 0.3895\n",
      "Epoch [16/50], Loss: 0.3518\n",
      "Epoch [17/50], Loss: 0.3155\n",
      "Epoch [18/50], Loss: 0.2952\n",
      "Epoch [19/50], Loss: 0.2866\n",
      "Epoch [20/50], Loss: 0.2705\n",
      "Epoch [21/50], Loss: 0.2575\n",
      "Epoch [22/50], Loss: 0.2491\n",
      "Epoch [23/50], Loss: 0.2691\n",
      "Epoch [24/50], Loss: 0.2925\n",
      "Epoch [25/50], Loss: 0.2533\n",
      "Epoch [26/50], Loss: 0.2462\n",
      "Epoch [27/50], Loss: 0.2661\n",
      "Epoch [28/50], Loss: 0.2517\n",
      "Epoch [29/50], Loss: 0.2475\n",
      "Epoch [30/50], Loss: 0.2444\n",
      "Epoch [31/50], Loss: 0.2276\n",
      "Epoch [32/50], Loss: 0.2449\n",
      "Epoch [33/50], Loss: 0.2364\n",
      "Epoch [34/50], Loss: 0.2445\n",
      "Epoch [35/50], Loss: 0.2528\n",
      "Epoch [36/50], Loss: 0.2468\n",
      "Epoch [37/50], Loss: 0.2393\n",
      "Epoch [38/50], Loss: 0.2364\n",
      "Epoch [39/50], Loss: 0.2302\n",
      "Epoch [40/50], Loss: 0.2230\n",
      "Epoch [41/50], Loss: 0.2270\n",
      "Epoch [42/50], Loss: 0.2301\n",
      "Epoch [43/50], Loss: 0.2191\n",
      "Epoch [44/50], Loss: 0.2204\n",
      "Epoch [45/50], Loss: 0.2216\n",
      "Epoch [46/50], Loss: 0.2243\n",
      "Epoch [47/50], Loss: 0.2160\n",
      "Epoch [48/50], Loss: 0.2264\n",
      "Epoch [49/50], Loss: 0.2401\n",
      "Epoch [50/50], Loss: 0.2260\n"
     ]
    },
    {
     "data": {
      "image/png": "[encoded data removed]",
      "text/plain": [
       "<Figure size 432x288 with 1 Axes>"
      ]
     },
     "metadata": {
      "needs_background": "light"
     },
     "output_type": "display_data"
    }
   ],
   "source": [
    "\n",
    "num_epochs = 50\n",
    "train_losses = []\n",
    "\n",
    "for epoch in range(num_epochs):\n",
    "    epoch_losses = []\n",
    "    for inputs, labels in train_loader:\n",
    "        optimizer.zero_grad()  # Set gradients to zero\n",
    "        \n",
    "        outputs = model(inputs)  # Forward pass\n",
    "        loss = criterion(outputs.squeeze(), labels.float())  # Calculate loss\n",
    "        \n",
    "        loss.backward()  # Backward pass\n",
    "        optimizer.step()  # Update weights\n",
    "        \n",
    "        epoch_losses.append(loss.item())  # Store loss for this batch\n",
    "    \n",
    "    # Calculate average loss for this epoch\n",
    "    epoch_loss_avg = sum(epoch_losses) / len(epoch_losses)\n",
    "    train_losses.append(epoch_loss_avg)\n",
    "    \n",
    "    print(f\"Epoch [{epoch+1}/{num_epochs}], Loss: {epoch_loss_avg:.4f}\")\n",
    "\n",
    "# Plot training loss\n",
    "plt.plot(train_losses, label='Training Loss')\n",
    "plt.xlabel('Epoch')\n",
    "plt.ylabel('Loss')\n",
    "plt.title('Training Loss')\n",
    "plt.legend()\n",
    "plt.show()\n"
   ]
  },
  {
   "cell_type": "code",
   "execution_count": 240,
   "id": "ff993ddd",
   "metadata": {},
   "outputs": [
    {
     "name": "stdout",
     "output_type": "stream",
     "text": [
      "Accuracy on test set: 0.9415\n"
     ]
    }
   ],
   "source": [
    "# Evaluate the model on the test set\n",
    "model.eval()  # Set model to evaluation mode\n",
    "with torch.no_grad():\n",
    "    correct = 0\n",
    "    total = 0\n",
    "    for inputs, labels in test_loader:\n",
    "        outputs = model(inputs)\n",
    "        predicted = torch.round(outputs)  # Convert probabilities to binary predictions\n",
    "        total += labels.size(0)\n",
    "        correct += (predicted.squeeze() == labels.float()).sum().item()\n",
    "\n",
    "    accuracy = correct / total\n",
    "    print(f\"Accuracy on test set: {accuracy:.4f}\")"
   ]
  },
  {
   "cell_type": "code",
   "execution_count": null,
   "id": "2a3a8b04",
   "metadata": {},
   "outputs": [],
   "source": []
  },
  {
   "cell_type": "code",
   "execution_count": null,
   "id": "56ac0512",
   "metadata": {},
   "outputs": [],
   "source": []
  }
 ],
 "metadata": {
  "kernelspec": {
   "display_name": "Python 3 (ipykernel)",
   "language": "python",
   "name": "python3"
  },
  "language_info": {
   "codemirror_mode": {
    "name": "ipython",
    "version": 3
   },
   "file_extension": ".py",
   "mimetype": "text/x-python",
   "name": "python",
   "nbconvert_exporter": "python",
   "pygments_lexer": "ipython3",
   "version": "3.10.12"
  }
 },
 "nbformat": 4,
 "nbformat_minor": 5
}
